{
  "nbformat": 4,
  "nbformat_minor": 0,
  "metadata": {
    "colab": {
      "name": "Lab2SL2.ipynb",
      "provenance": [],
      "collapsed_sections": []
    },
    "kernelspec": {
      "name": "python3",
      "display_name": "Python 3"
    },
    "language_info": {
      "name": "python"
    }
  },
  "cells": [
    {
      "cell_type": "markdown",
      "source": [
        "### Carga de Librerías"
      ],
      "metadata": {
        "id": "MQgb43MSi9BX"
      }
    },
    {
      "cell_type": "code",
      "execution_count": null,
      "metadata": {
        "id": "H611XMk8i3v_"
      },
      "outputs": [],
      "source": [
        "import numpy as np\n",
        "import pandas as pd\n",
        "from sklearn.metrics import roc_auc_score, roc_curve\n",
        "from keras.wrappers.scikit_learn import KerasClassifier\n",
        "from sklearn.model_selection import cross_val_score\n",
        "from sklearn.metrics import accuracy_score\n",
        "from sklearn.model_selection import KFold\n",
        "from sklearn.model_selection import train_test_split\n",
        "import keras\n",
        "from keras.models import Sequential\n",
        "from keras.layers import Dense\n",
        "from sklearn.preprocessing import StandardScaler\n",
        "from tensorflow.keras.optimizers import Adam\n",
        "from sklearn.model_selection import GridSearchCV\n",
        "from keras.layers import Activation\n",
        "from keras.wrappers.scikit_learn import KerasRegressor\n",
        "from sklearn.metrics import r2_score\n",
        "from sklearn.metrics import mean_squared_error\n",
        "import math\n",
        "from sklearn.metrics import classification_report"
      ]
    },
    {
      "cell_type": "markdown",
      "source": [
        "### Carga de la Data"
      ],
      "metadata": {
        "id": "Zulykjq6l-ON"
      }
    },
    {
      "cell_type": "code",
      "source": [
        "data_path1 = '/content/drive/MyDrive/DataTrainF.csv'\n",
        "#data_path2 = '/content/drive/MyDrive/DataTest.csv'\n",
        "data = pd.read_csv(data_path1)\n",
        "#datatest = pd.read_csv(data_path2)"
      ],
      "metadata": {
        "id": "3LKEaCsxl9xP"
      },
      "execution_count": null,
      "outputs": []
    },
    {
      "cell_type": "markdown",
      "source": [
        "### Separación Data para Entrenamiento y para Validación"
      ],
      "metadata": {
        "id": "7luK0nowjENo"
      }
    },
    {
      "cell_type": "code",
      "source": [
        "X = data.iloc[:, data.columns != 'Quantity']\n",
        "y = data.loc[:, 'Quantity']"
      ],
      "metadata": {
        "id": "d7FJwa-pjErJ"
      },
      "execution_count": null,
      "outputs": []
    },
    {
      "cell_type": "code",
      "source": [
        "X_train, X_test, y_train, y_test = train_test_split(X, y, test_size=0.2, shuffle=True, random_state=1234)"
      ],
      "metadata": {
        "id": "IBllmxgAjMM4"
      },
      "execution_count": null,
      "outputs": []
    },
    {
      "cell_type": "markdown",
      "source": [
        "### **Función para Generar Arquitectura Dinámica**"
      ],
      "metadata": {
        "id": "8OZ9QfmljpSs"
      }
    },
    {
      "cell_type": "code",
      "source": [
        "def create_dynamicNeuralNet(layers, activation_fn, tipo, lr, n_inputs, n_clases):\n",
        "  modelo = Sequential()\n",
        "\n",
        "  for i, nodes in enumerate(layers):\n",
        "    if(i == 0):\n",
        "      modelo.add(Dense(units=nodes, input_dim=n_inputs))\n",
        "      modelo.add(Activation(activation_fn))\n",
        "    else:\n",
        "      modelo.add(Dense(units=nodes))\n",
        "      modelo.add(Activation(activation_fn))\n",
        "\n",
        "    if(tipo == \"regresion\"):\n",
        "      modelo.compile(loss=\"mean_squared_error\", optimizer=Adam(lr), metrics=['mean_squared_error'])\n",
        "      out_activation='relu'\n",
        "      classes_out = 1\n",
        "    else:\n",
        "      modelo.compile(loss=\"binary_crossentropy\", optimizer=Adam(lr), metrics=['accuracy'])\n",
        "      out_activation='sigmoid'\n",
        "      classes_out = n_clases[0]\n",
        "      if(classes_out == 2):\n",
        "        classes_out = 1\n",
        "    modelo.add(Dense(units=classes_out, activation=out_activation))\n",
        "    return modelo\n"
      ],
      "metadata": {
        "id": "fHllnXfRjQ_V"
      },
      "execution_count": null,
      "outputs": []
    },
    {
      "cell_type": "code",
      "source": [
        "modeloFinal = KerasRegressor(build_fn=create_dynamicNeuralNet, verbose=0)"
      ],
      "metadata": {
        "colab": {
          "base_uri": "https://localhost:8080/"
        },
        "id": "5PLYVbTVlSy-",
        "outputId": "1c5fe5d6-92a1-44d0-9eca-4f0170bd9f3c"
      },
      "execution_count": null,
      "outputs": [
        {
          "output_type": "stream",
          "name": "stderr",
          "text": [
            "/usr/local/lib/python3.7/dist-packages/ipykernel_launcher.py:1: DeprecationWarning: KerasRegressor is deprecated, use Sci-Keras (https://github.com/adriangb/scikeras) instead. See https://www.adriangb.com/scikeras/stable/migration.html for help migrating.\n",
            "  \"\"\"Entry point for launching an IPython kernel.\n"
          ]
        }
      ]
    },
    {
      "cell_type": "markdown",
      "source": [
        "### **Arquitectura 1**"
      ],
      "metadata": {
        "id": "Llnsq1ftm32G"
      }
    },
    {
      "cell_type": "code",
      "source": [
        "parametros = {\n",
        "    'batch_size': [20],\n",
        "    'activation_fn': ['relu'],\n",
        "    'epochs': [800],\n",
        "    'lr': [0.001],\n",
        "    'layers': [(2, 3, 2)],\n",
        "    'tipo': ['regresion'],\n",
        "    'n_inputs': [X_train.shape[1]],\n",
        "    'n_clases': [len(y_train.value_counts())]\n",
        "}"
      ],
      "metadata": {
        "id": "XlM0AVOrlY-e"
      },
      "execution_count": null,
      "outputs": []
    },
    {
      "cell_type": "code",
      "source": [
        "grid_out = GridSearchCV(estimator=modeloFinal, param_grid=parametros)"
      ],
      "metadata": {
        "id": "8S66moDil4Ek"
      },
      "execution_count": null,
      "outputs": []
    },
    {
      "cell_type": "code",
      "source": [
        "grid_result = grid_out.fit(X_train, y_train)"
      ],
      "metadata": {
        "id": "2eTwsK4vnU1d"
      },
      "execution_count": null,
      "outputs": []
    },
    {
      "cell_type": "code",
      "source": [
        "y_preds_1 = grid_result.predict(X_test)"
      ],
      "metadata": {
        "id": "iETfxeDixK0U"
      },
      "execution_count": null,
      "outputs": []
    },
    {
      "cell_type": "markdown",
      "source": [
        "### Métricas de la Arquitectura 1"
      ],
      "metadata": {
        "id": "8ZjWO1BumOzF"
      }
    },
    {
      "cell_type": "code",
      "source": [
        "r2r1 =r2_score(y_test, y_preds_1)\n",
        "r2r1"
      ],
      "metadata": {
        "colab": {
          "base_uri": "https://localhost:8080/"
        },
        "id": "g0vEthUiJMCX",
        "outputId": "916becd7-63a2-4b23-fe64-e2c39ea1cdae"
      },
      "execution_count": null,
      "outputs": [
        {
          "output_type": "execute_result",
          "data": {
            "text/plain": [
              "0.9199338811935663"
            ]
          },
          "metadata": {},
          "execution_count": 87
        }
      ]
    },
    {
      "cell_type": "code",
      "source": [
        "MSE = mean_squared_error(y_test, y_preds_1)\n",
        "RMSE1 = math.sqrt(MSE)\n",
        "RMSE1 "
      ],
      "metadata": {
        "colab": {
          "base_uri": "https://localhost:8080/"
        },
        "id": "UqZySmTJKNhV",
        "outputId": "c2589b18-e363-477c-821f-9f33616f5b05"
      },
      "execution_count": null,
      "outputs": [
        {
          "output_type": "execute_result",
          "data": {
            "text/plain": [
              "0.8642539098507158"
            ]
          },
          "metadata": {},
          "execution_count": 88
        }
      ]
    },
    {
      "cell_type": "markdown",
      "source": [
        "### **Arquitectura 2**"
      ],
      "metadata": {
        "id": "LhVvWNOYmcCo"
      }
    },
    {
      "cell_type": "code",
      "source": [
        "parametros2 = {\n",
        "    'batch_size': [25],\n",
        "    'activation_fn': ['relu'],\n",
        "    'epochs': [1000],\n",
        "    'lr': [0.001],\n",
        "    'layers': [(5, 5, 3)],\n",
        "    'tipo': ['regresion'],\n",
        "    'n_inputs': [X_train.shape[1]],\n",
        "    'n_clases': [len(y_train.value_counts())]\n",
        "}"
      ],
      "metadata": {
        "id": "F694Wd-tmbDV"
      },
      "execution_count": null,
      "outputs": []
    },
    {
      "cell_type": "code",
      "source": [
        "grid_out2 = GridSearchCV(estimator=modeloFinal, param_grid=parametros2)"
      ],
      "metadata": {
        "id": "AAWJI9AkoW6R"
      },
      "execution_count": null,
      "outputs": []
    },
    {
      "cell_type": "code",
      "source": [
        "grid_result2 = grid_out2.fit(X_train, y_train)"
      ],
      "metadata": {
        "id": "9oZIclbyoWvs"
      },
      "execution_count": null,
      "outputs": []
    },
    {
      "cell_type": "code",
      "source": [
        "y_preds_2 = grid_result2.predict(X_test)"
      ],
      "metadata": {
        "id": "aqQP_CsJoWjn"
      },
      "execution_count": null,
      "outputs": []
    },
    {
      "cell_type": "markdown",
      "source": [
        "### Métricas Arquitectura 2"
      ],
      "metadata": {
        "id": "nDKbxgBlof1o"
      }
    },
    {
      "cell_type": "code",
      "source": [
        "r2r2 =r2_score(y_test, y_preds_2)\n",
        "r2r2"
      ],
      "metadata": {
        "colab": {
          "base_uri": "https://localhost:8080/"
        },
        "id": "_lKxyBvFoiZo",
        "outputId": "779e077c-aaf5-49ae-aab4-a352047b2541"
      },
      "execution_count": null,
      "outputs": [
        {
          "output_type": "execute_result",
          "data": {
            "text/plain": [
              "0.9373551537394402"
            ]
          },
          "metadata": {},
          "execution_count": 89
        }
      ]
    },
    {
      "cell_type": "code",
      "source": [
        "MSE = mean_squared_error(y_test, y_preds_2)\n",
        "RMSE2 = math.sqrt(MSE)\n",
        "RMSE2 "
      ],
      "metadata": {
        "colab": {
          "base_uri": "https://localhost:8080/"
        },
        "id": "DbTv4I0do6Hl",
        "outputId": "5cb4dc7c-335e-48f8-9972-058bf0a9de43"
      },
      "execution_count": null,
      "outputs": [
        {
          "output_type": "execute_result",
          "data": {
            "text/plain": [
              "0.7644685766227449"
            ]
          },
          "metadata": {},
          "execution_count": 90
        }
      ]
    },
    {
      "cell_type": "markdown",
      "source": [
        "### **Arquitectura 3**"
      ],
      "metadata": {
        "id": "AWvNsmOmp0Tq"
      }
    },
    {
      "cell_type": "code",
      "source": [
        "parametros3 = {\n",
        "    'batch_size': [15],\n",
        "    'activation_fn': ['relu'],\n",
        "    'epochs': [250],\n",
        "    'lr': [0.01],\n",
        "    'layers': [(3, 3, 3)],\n",
        "    'tipo': ['regresion'],\n",
        "    'n_inputs': [X_train.shape[1]],\n",
        "    'n_clases': [len(y_train.value_counts())]\n",
        "}"
      ],
      "metadata": {
        "id": "v6bHzOEtp3Fc"
      },
      "execution_count": null,
      "outputs": []
    },
    {
      "cell_type": "code",
      "source": [
        "grid_out3 = GridSearchCV(estimator=modeloFinal, param_grid=parametros3)"
      ],
      "metadata": {
        "id": "0Ue5qhaUqE6l"
      },
      "execution_count": null,
      "outputs": []
    },
    {
      "cell_type": "code",
      "source": [
        "grid_result3 = grid_out3.fit(X_train, y_train)"
      ],
      "metadata": {
        "id": "JDYjrBryqF9Y"
      },
      "execution_count": null,
      "outputs": []
    },
    {
      "cell_type": "code",
      "source": [
        "y_preds_3 = grid_result3.predict(X_test)"
      ],
      "metadata": {
        "id": "FI7uojx_qJnr"
      },
      "execution_count": null,
      "outputs": []
    },
    {
      "cell_type": "markdown",
      "source": [
        "### Métricas Arquitectura 3"
      ],
      "metadata": {
        "id": "ppU5J55Iqmwm"
      }
    },
    {
      "cell_type": "code",
      "source": [
        "r2r3 =r2_score(y_test, y_preds_3)\n",
        "r2r3"
      ],
      "metadata": {
        "colab": {
          "base_uri": "https://localhost:8080/"
        },
        "id": "fzkWNIhIqpPo",
        "outputId": "176904e4-d3c5-449f-d2f1-74429b33e227"
      },
      "execution_count": null,
      "outputs": [
        {
          "output_type": "execute_result",
          "data": {
            "text/plain": [
              "0.8656159355772697"
            ]
          },
          "metadata": {},
          "execution_count": 91
        }
      ]
    },
    {
      "cell_type": "code",
      "source": [
        "MSE = mean_squared_error(y_test, y_preds_3)\n",
        "RMSE3 = math.sqrt(MSE)\n",
        "RMSE3"
      ],
      "metadata": {
        "colab": {
          "base_uri": "https://localhost:8080/"
        },
        "id": "x49U7DVHqqc3",
        "outputId": "fe1d281c-b130-4c9e-8f01-ae3a797e76ac"
      },
      "execution_count": null,
      "outputs": [
        {
          "output_type": "execute_result",
          "data": {
            "text/plain": [
              "1.1196720847632313"
            ]
          },
          "metadata": {},
          "execution_count": 92
        }
      ]
    },
    {
      "cell_type": "markdown",
      "source": [
        "### **Arquitectura 4**"
      ],
      "metadata": {
        "id": "Co9JuTd3s_DM"
      }
    },
    {
      "cell_type": "code",
      "source": [
        "parametros4 = {\n",
        "    'batch_size': [50],\n",
        "    'activation_fn': ['relu'],\n",
        "    'epochs': [480],\n",
        "    'lr': [0.01],\n",
        "    'layers': [(3,  20, 15)],\n",
        "    'tipo': ['regresion'],\n",
        "    'n_inputs': [X_train.shape[1]],\n",
        "    'n_clases': [len(y_train.value_counts())]\n",
        "}"
      ],
      "metadata": {
        "id": "4eRdw-9OrwUh"
      },
      "execution_count": null,
      "outputs": []
    },
    {
      "cell_type": "code",
      "source": [
        "grid_out4 = GridSearchCV(estimator=modeloFinal, param_grid=parametros4)"
      ],
      "metadata": {
        "id": "R7yMYW13tIdC"
      },
      "execution_count": null,
      "outputs": []
    },
    {
      "cell_type": "code",
      "source": [
        "grid_result4 = grid_out4.fit(X_train, y_train)"
      ],
      "metadata": {
        "id": "ZG436UZ-tIZZ"
      },
      "execution_count": null,
      "outputs": []
    },
    {
      "cell_type": "code",
      "source": [
        "y_preds_4 = grid_result4.predict(X_test)"
      ],
      "metadata": {
        "id": "tiAyP8B9tIXw"
      },
      "execution_count": null,
      "outputs": []
    },
    {
      "cell_type": "markdown",
      "source": [
        "### Métricas Arquitectura 4"
      ],
      "metadata": {
        "id": "zYYFpKR-tOBV"
      }
    },
    {
      "cell_type": "code",
      "source": [
        "r2r4 =r2_score(y_test, y_preds_4)\n",
        "r2r4"
      ],
      "metadata": {
        "colab": {
          "base_uri": "https://localhost:8080/"
        },
        "id": "RG2xDp04tILx",
        "outputId": "326bd38c-220b-4221-b02e-5db81f7ae3ed"
      },
      "execution_count": null,
      "outputs": [
        {
          "output_type": "execute_result",
          "data": {
            "text/plain": [
              "0.9191361641202314"
            ]
          },
          "metadata": {},
          "execution_count": 93
        }
      ]
    },
    {
      "cell_type": "code",
      "source": [
        "MSE = mean_squared_error(y_test, y_preds_4)\n",
        "RMSE4 = math.sqrt(MSE)\n",
        "RMSE4"
      ],
      "metadata": {
        "colab": {
          "base_uri": "https://localhost:8080/"
        },
        "id": "caJnmrCgtVKt",
        "outputId": "6f83883d-8752-4838-b808-10965e691f0e"
      },
      "execution_count": null,
      "outputs": [
        {
          "output_type": "execute_result",
          "data": {
            "text/plain": [
              "0.8685486188616414"
            ]
          },
          "metadata": {},
          "execution_count": 94
        }
      ]
    },
    {
      "cell_type": "markdown",
      "source": [
        "### **Arquitectura 5**"
      ],
      "metadata": {
        "id": "861GaCyxw_ZZ"
      }
    },
    {
      "cell_type": "code",
      "source": [
        "parametros5 = {\n",
        "    'batch_size': [75],\n",
        "    'activation_fn': ['relu'],\n",
        "    'epochs': [880],\n",
        "    'lr': [0.001],\n",
        "    'layers': [(20, 30, 25)],\n",
        "    'tipo': ['regresion'],\n",
        "    'n_inputs': [X_train.shape[1]],\n",
        "    'n_clases': [len(y_train.value_counts())]\n",
        "}"
      ],
      "metadata": {
        "id": "w4xtRL2ww291"
      },
      "execution_count": null,
      "outputs": []
    },
    {
      "cell_type": "code",
      "source": [
        "grid_out5 = GridSearchCV(estimator=modeloFinal, param_grid=parametros5)"
      ],
      "metadata": {
        "id": "oyAZ9k1Ou0C4"
      },
      "execution_count": null,
      "outputs": []
    },
    {
      "cell_type": "code",
      "source": [
        "grid_result5 = grid_out5.fit(X_train, y_train)"
      ],
      "metadata": {
        "id": "nZCDWsTUxYy_"
      },
      "execution_count": null,
      "outputs": []
    },
    {
      "cell_type": "code",
      "source": [
        "y_preds_5 = grid_result5.predict(X_test)"
      ],
      "metadata": {
        "id": "obtDC5dYxYwf"
      },
      "execution_count": null,
      "outputs": []
    },
    {
      "cell_type": "markdown",
      "source": [
        "### Métricas Arquitectura 5"
      ],
      "metadata": {
        "id": "3I2UYMdGxfy1"
      }
    },
    {
      "cell_type": "code",
      "source": [
        "r2r5 = r2_score(y_test, y_preds_5)\n",
        "r2r5"
      ],
      "metadata": {
        "colab": {
          "base_uri": "https://localhost:8080/"
        },
        "id": "PirU9X7yxYaZ",
        "outputId": "4f855754-8ca4-41dc-8fef-ac1ca7ac5b14"
      },
      "execution_count": null,
      "outputs": [
        {
          "output_type": "execute_result",
          "data": {
            "text/plain": [
              "0.9590007582353449"
            ]
          },
          "metadata": {},
          "execution_count": 95
        }
      ]
    },
    {
      "cell_type": "code",
      "source": [
        "MSE = mean_squared_error(y_test, y_preds_5)\n",
        "RMSE5 = math.sqrt(MSE)\n",
        "RMSE5"
      ],
      "metadata": {
        "colab": {
          "base_uri": "https://localhost:8080/"
        },
        "id": "MvZdOCgoxpx5",
        "outputId": "84d6ae7b-3d38-42d2-9c7f-03b3b2853c54"
      },
      "execution_count": null,
      "outputs": [
        {
          "output_type": "execute_result",
          "data": {
            "text/plain": [
              "0.6184504033804349"
            ]
          },
          "metadata": {},
          "execution_count": 96
        }
      ]
    },
    {
      "cell_type": "markdown",
      "source": [
        "### **Arquitectura 6**"
      ],
      "metadata": {
        "id": "HDhQxj7AzHFn"
      }
    },
    {
      "cell_type": "code",
      "source": [
        "parametros6 = {\n",
        "    'batch_size': [10],\n",
        "    'activation_fn': ['relu'],\n",
        "    'epochs': [150],\n",
        "    'lr': [0.01],\n",
        "    'layers': [(2, 5, 3)],\n",
        "    'tipo': ['regresion'],\n",
        "    'n_inputs': [X_train.shape[1]],\n",
        "    'n_clases': [len(y_train.value_counts())]\n",
        "}"
      ],
      "metadata": {
        "id": "pVM_PovRyHFb"
      },
      "execution_count": null,
      "outputs": []
    },
    {
      "cell_type": "code",
      "source": [
        "grid_out6 = GridSearchCV(estimator=modeloFinal, param_grid=parametros6)"
      ],
      "metadata": {
        "id": "pPKkB_QxzN-R"
      },
      "execution_count": null,
      "outputs": []
    },
    {
      "cell_type": "code",
      "source": [
        "grid_result6 = grid_out6.fit(X_train, y_train)"
      ],
      "metadata": {
        "id": "wVWc5CJyzNw4"
      },
      "execution_count": null,
      "outputs": []
    },
    {
      "cell_type": "code",
      "source": [
        "y_preds_6 = grid_result6.predict(X_test)"
      ],
      "metadata": {
        "id": "r7dnqggizNql"
      },
      "execution_count": null,
      "outputs": []
    },
    {
      "cell_type": "markdown",
      "source": [
        "### Métricas Arquitectura 6"
      ],
      "metadata": {
        "id": "VqZCH7bqz1WG"
      }
    },
    {
      "cell_type": "code",
      "source": [
        "r2r6 = r2_score(y_test, y_preds_6)\n",
        "r2r6"
      ],
      "metadata": {
        "colab": {
          "base_uri": "https://localhost:8080/"
        },
        "id": "kUBATECZzzYQ",
        "outputId": "591a6e88-db07-4cbe-fec1-9a61a88c25c1"
      },
      "execution_count": null,
      "outputs": [
        {
          "output_type": "execute_result",
          "data": {
            "text/plain": [
              "0.8494925508835366"
            ]
          },
          "metadata": {},
          "execution_count": 97
        }
      ]
    },
    {
      "cell_type": "code",
      "source": [
        "MSE = mean_squared_error(y_test, y_preds_6)\n",
        "RMSE6 = math.sqrt(MSE)\n",
        "RMSE6"
      ],
      "metadata": {
        "colab": {
          "base_uri": "https://localhost:8080/"
        },
        "id": "AtP7fI7Fz7ae",
        "outputId": "be3a5528-de80-4f59-d594-acb98e435080"
      },
      "execution_count": null,
      "outputs": [
        {
          "output_type": "execute_result",
          "data": {
            "text/plain": [
              "1.184938914088511"
            ]
          },
          "metadata": {},
          "execution_count": 98
        }
      ]
    },
    {
      "cell_type": "markdown",
      "source": [
        "### Conclusión"
      ],
      "metadata": {
        "id": "DY-oVZD30CIj"
      }
    },
    {
      "cell_type": "markdown",
      "source": [
        "La arquitectura que mejor se desempeño tanto para ajustarse al modelo como para hacer predicciones fue el modelo 5 que está justo en el limite de sobreajustarse. Pero también se obtuvieron otros muy buenos modelos con las arquitecturas 1, 2 y 4 en las que cada una se tienen diferentes learning rate,  capas y epocas."
      ],
      "metadata": {
        "id": "2GHtXzN68NMn"
      }
    },
    {
      "cell_type": "code",
      "source": [
        "DFsummary = { 'Arquitectura' : [\"Arq1\",\"Arq2\",\"Arq3\",\"Arq4\",\"Arq5\",\"Arq6\"],\n",
        "             'R2': [r2r1,r2r2,r2r3,r2r4,r2r5,r2r6],\n",
        "             'RMSE': [RMSE1,RMSE2,RMSE3,RMSE4,RMSE5,RMSE6]}\n",
        "DFsummary = pd.DataFrame(DFsummary, columns =['Arquitectura', 'R2', 'RMSE'])\n",
        "DFsummary"
      ],
      "metadata": {
        "colab": {
          "base_uri": "https://localhost:8080/",
          "height": 238
        },
        "id": "qDbrdCsB0BUr",
        "outputId": "d231873b-b7da-4784-9e3b-016f7602b2d8"
      },
      "execution_count": null,
      "outputs": [
        {
          "output_type": "execute_result",
          "data": {
            "text/plain": [
              "  Arquitectura        R2      RMSE\n",
              "0         Arq1  0.919934  0.864254\n",
              "1         Arq2  0.937355  0.764469\n",
              "2         Arq3  0.865616  1.119672\n",
              "3         Arq4  0.919136  0.868549\n",
              "4         Arq5  0.959001  0.618450\n",
              "5         Arq6  0.849493  1.184939"
            ],
            "text/html": [
              "\n",
              "  <div id=\"df-268778b3-f8d1-49e4-bf6d-7ed0addece3f\">\n",
              "    <div class=\"colab-df-container\">\n",
              "      <div>\n",
              "<style scoped>\n",
              "    .dataframe tbody tr th:only-of-type {\n",
              "        vertical-align: middle;\n",
              "    }\n",
              "\n",
              "    .dataframe tbody tr th {\n",
              "        vertical-align: top;\n",
              "    }\n",
              "\n",
              "    .dataframe thead th {\n",
              "        text-align: right;\n",
              "    }\n",
              "</style>\n",
              "<table border=\"1\" class=\"dataframe\">\n",
              "  <thead>\n",
              "    <tr style=\"text-align: right;\">\n",
              "      <th></th>\n",
              "      <th>Arquitectura</th>\n",
              "      <th>R2</th>\n",
              "      <th>RMSE</th>\n",
              "    </tr>\n",
              "  </thead>\n",
              "  <tbody>\n",
              "    <tr>\n",
              "      <th>0</th>\n",
              "      <td>Arq1</td>\n",
              "      <td>0.919934</td>\n",
              "      <td>0.864254</td>\n",
              "    </tr>\n",
              "    <tr>\n",
              "      <th>1</th>\n",
              "      <td>Arq2</td>\n",
              "      <td>0.937355</td>\n",
              "      <td>0.764469</td>\n",
              "    </tr>\n",
              "    <tr>\n",
              "      <th>2</th>\n",
              "      <td>Arq3</td>\n",
              "      <td>0.865616</td>\n",
              "      <td>1.119672</td>\n",
              "    </tr>\n",
              "    <tr>\n",
              "      <th>3</th>\n",
              "      <td>Arq4</td>\n",
              "      <td>0.919136</td>\n",
              "      <td>0.868549</td>\n",
              "    </tr>\n",
              "    <tr>\n",
              "      <th>4</th>\n",
              "      <td>Arq5</td>\n",
              "      <td>0.959001</td>\n",
              "      <td>0.618450</td>\n",
              "    </tr>\n",
              "    <tr>\n",
              "      <th>5</th>\n",
              "      <td>Arq6</td>\n",
              "      <td>0.849493</td>\n",
              "      <td>1.184939</td>\n",
              "    </tr>\n",
              "  </tbody>\n",
              "</table>\n",
              "</div>\n",
              "      <button class=\"colab-df-convert\" onclick=\"convertToInteractive('df-268778b3-f8d1-49e4-bf6d-7ed0addece3f')\"\n",
              "              title=\"Convert this dataframe to an interactive table.\"\n",
              "              style=\"display:none;\">\n",
              "        \n",
              "  <svg xmlns=\"http://www.w3.org/2000/svg\" height=\"24px\"viewBox=\"0 0 24 24\"\n",
              "       width=\"24px\">\n",
              "    <path d=\"M0 0h24v24H0V0z\" fill=\"none\"/>\n",
              "    <path d=\"M18.56 5.44l.94 2.06.94-2.06 2.06-.94-2.06-.94-.94-2.06-.94 2.06-2.06.94zm-11 1L8.5 8.5l.94-2.06 2.06-.94-2.06-.94L8.5 2.5l-.94 2.06-2.06.94zm10 10l.94 2.06.94-2.06 2.06-.94-2.06-.94-.94-2.06-.94 2.06-2.06.94z\"/><path d=\"M17.41 7.96l-1.37-1.37c-.4-.4-.92-.59-1.43-.59-.52 0-1.04.2-1.43.59L10.3 9.45l-7.72 7.72c-.78.78-.78 2.05 0 2.83L4 21.41c.39.39.9.59 1.41.59.51 0 1.02-.2 1.41-.59l7.78-7.78 2.81-2.81c.8-.78.8-2.07 0-2.86zM5.41 20L4 18.59l7.72-7.72 1.47 1.35L5.41 20z\"/>\n",
              "  </svg>\n",
              "      </button>\n",
              "      \n",
              "  <style>\n",
              "    .colab-df-container {\n",
              "      display:flex;\n",
              "      flex-wrap:wrap;\n",
              "      gap: 12px;\n",
              "    }\n",
              "\n",
              "    .colab-df-convert {\n",
              "      background-color: #E8F0FE;\n",
              "      border: none;\n",
              "      border-radius: 50%;\n",
              "      cursor: pointer;\n",
              "      display: none;\n",
              "      fill: #1967D2;\n",
              "      height: 32px;\n",
              "      padding: 0 0 0 0;\n",
              "      width: 32px;\n",
              "    }\n",
              "\n",
              "    .colab-df-convert:hover {\n",
              "      background-color: #E2EBFA;\n",
              "      box-shadow: 0px 1px 2px rgba(60, 64, 67, 0.3), 0px 1px 3px 1px rgba(60, 64, 67, 0.15);\n",
              "      fill: #174EA6;\n",
              "    }\n",
              "\n",
              "    [theme=dark] .colab-df-convert {\n",
              "      background-color: #3B4455;\n",
              "      fill: #D2E3FC;\n",
              "    }\n",
              "\n",
              "    [theme=dark] .colab-df-convert:hover {\n",
              "      background-color: #434B5C;\n",
              "      box-shadow: 0px 1px 3px 1px rgba(0, 0, 0, 0.15);\n",
              "      filter: drop-shadow(0px 1px 2px rgba(0, 0, 0, 0.3));\n",
              "      fill: #FFFFFF;\n",
              "    }\n",
              "  </style>\n",
              "\n",
              "      <script>\n",
              "        const buttonEl =\n",
              "          document.querySelector('#df-268778b3-f8d1-49e4-bf6d-7ed0addece3f button.colab-df-convert');\n",
              "        buttonEl.style.display =\n",
              "          google.colab.kernel.accessAllowed ? 'block' : 'none';\n",
              "\n",
              "        async function convertToInteractive(key) {\n",
              "          const element = document.querySelector('#df-268778b3-f8d1-49e4-bf6d-7ed0addece3f');\n",
              "          const dataTable =\n",
              "            await google.colab.kernel.invokeFunction('convertToInteractive',\n",
              "                                                     [key], {});\n",
              "          if (!dataTable) return;\n",
              "\n",
              "          const docLinkHtml = 'Like what you see? Visit the ' +\n",
              "            '<a target=\"_blank\" href=https://colab.research.google.com/notebooks/data_table.ipynb>data table notebook</a>'\n",
              "            + ' to learn more about interactive tables.';\n",
              "          element.innerHTML = '';\n",
              "          dataTable['output_type'] = 'display_data';\n",
              "          await google.colab.output.renderOutput(dataTable, element);\n",
              "          const docLink = document.createElement('div');\n",
              "          docLink.innerHTML = docLinkHtml;\n",
              "          element.appendChild(docLink);\n",
              "        }\n",
              "      </script>\n",
              "    </div>\n",
              "  </div>\n",
              "  "
            ]
          },
          "metadata": {},
          "execution_count": 114
        }
      ]
    },
    {
      "cell_type": "code",
      "source": [
        ""
      ],
      "metadata": {
        "id": "ajsIszkN4AkV"
      },
      "execution_count": null,
      "outputs": []
    }
  ]
}